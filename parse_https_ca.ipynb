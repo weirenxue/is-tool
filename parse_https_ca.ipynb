{
 "cells": [
  {
   "cell_type": "code",
   "execution_count": 1,
   "metadata": {},
   "outputs": [
    {
     "name": "stdout",
     "output_type": "stream",
     "text": [
      "subject\n",
      "+---------------------+\n",
      "|      commonName     |\n",
      "+---------------------+\n",
      "| *.cloud.ncnu.edu.tw |\n",
      "+---------------------+\n",
      "\n",
      "issuer\n",
      "+-------------+------------------+------------------------+----------------------+\n",
      "| countryName | organizationName | organizationalUnitName |      commonName      |\n",
      "+-------------+------------------+------------------------+----------------------+\n",
      "|      US     |   DigiCert Inc   |    www.digicert.com    | RapidSSL RSA CA 2018 |\n",
      "+-------------+------------------+------------------------+----------------------+\n",
      "\n",
      "details\n",
      "+---------+--------------------------+--------------------------+\n",
      "| version |        notBefore         |         notAfter         |\n",
      "+---------+--------------------------+--------------------------+\n",
      "|    3    | Nov 27 00:00:00 2018 GMT | Dec 25 12:00:00 2020 GMT |\n",
      "+---------+--------------------------+--------------------------+\n"
     ]
    }
   ],
   "source": [
    "import ssl, socket\n",
    "import prettytable as pt\n",
    "\n",
    "def tuple2dict(tuples):\n",
    "    dicts = {}\n",
    "    for x in tuples:\n",
    "        if x[0][0] in dicts:\n",
    "            dicts[x[0][0]] += \"\\n\" + x[0][1]\n",
    "        else:\n",
    "            dicts[x[0][0]] = x[0][1]\n",
    "    return dicts\n",
    "\n",
    "FQDN = 'teach.cloud.ncnu.edu.tw'\n",
    "sslContext = ssl.create_default_context()\n",
    "sslContext.check_hostname = False\n",
    "with sslContext.wrap_socket(socket.socket(), server_hostname = FQDN) as sslSocket:\n",
    "    sslSocket.connect((FQDN, 443))\n",
    "    cert = sslSocket.getpeercert()\n",
    "\n",
    "notInclude = \"NOT INCLUDE\"\n",
    "cert_subject = tuple2dict(cert[\"subject\"])\n",
    "cert_issuer = tuple2dict(cert[\"issuer\"])\n",
    "cert_version = cert.get(\"version\", notInclude)\n",
    "cert_notBefore = cert.get(\"notBefore\", notInclude)\n",
    "cert_notAfter = cert.get(\"notAfter\", notInclude)\n",
    "cert_subjectAltName = dict(cert[\"subjectAltName\"])\n",
    "cert_OCSP = cert.get(\"OCSP\", notInclude)\n",
    "cert_caIssuers = cert.get(\"caIssuers\", notInclude)\n",
    "cert_crlDistributionPoints = cert.get(\"crlDistributionPoints\", notInclude)\n",
    "\n",
    "title_row = []\n",
    "data_row = []\n",
    "print(\"subject\")\n",
    "for key, value in cert_subject.items():\n",
    "    title_row.append(key)\n",
    "    data_row.append(value)\n",
    "table = pt.PrettyTable(title_row)\n",
    "table.add_row(data_row)\n",
    "print(table)\n",
    "\n",
    "title_row = []\n",
    "data_row = []\n",
    "print(\"\\nissuer\")\n",
    "for key, value in cert_issuer.items():\n",
    "    title_row.append(key)\n",
    "    data_row.append(value)\n",
    "table = pt.PrettyTable(title_row)\n",
    "table.add_row(data_row)\n",
    "print(table)\n",
    "\n",
    "print(\"\\ndetails\")\n",
    "title_row = [\"version\", \"notBefore\", \"notAfter\"]\n",
    "data_row = [cert_version, cert_notBefore, cert_notAfter]\n",
    "table = pt.PrettyTable(title_row)\n",
    "table.add_row(data_row)\n",
    "print(table)\n",
    "\n"
   ]
  }
 ],
 "metadata": {
  "kernelspec": {
   "display_name": "Python 3",
   "language": "python",
   "name": "python3"
  },
  "language_info": {
   "codemirror_mode": {
    "name": "ipython",
    "version": 3
   },
   "file_extension": ".py",
   "mimetype": "text/x-python",
   "name": "python",
   "nbconvert_exporter": "python",
   "pygments_lexer": "ipython3",
   "version": "3.8.5"
  }
 },
 "nbformat": 4,
 "nbformat_minor": 4
}
