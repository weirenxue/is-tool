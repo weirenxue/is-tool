{
 "cells": [
  {
   "cell_type": "code",
   "execution_count": 1,
   "metadata": {},
   "outputs": [
    {
     "name": "stdout",
     "output_type": "stream",
     "text": [
      "request URL:http://teach.cloud.ncnu.edu.tw/\n",
      "reponse URL:https://teach.cloud.ncnu.edu.tw/\n",
      "Set-Cookie:__AntiXsrfToken=b76b84bb628e455897995a2ce9211af7; path=/; HttpOnly\n",
      "\n",
      "request URL:http://teach.cloud.ncnu.edu.tw/index\n",
      "reponse URL:https://teach.cloud.ncnu.edu.tw/index\n",
      "Set-Cookie:__AntiXsrfToken=094bf1323c9c4558b5d8cddc4e064bb4; path=/; HttpOnly\n",
      "\n",
      "request URL:http://teach.cloud.ncnu.edu.tw/login\n",
      "reponse URL:https://teach.cloud.ncnu.edu.tw/login\n",
      "Set-Cookie:ASP.NET_SessionId=bsy55i3vqakpbau0dt23mzyn; path=/; HttpOnly; SameSite=Lax, __AntiXsrfToken=dbb2d73487f847bc9f61cce8fcf677a6; path=/; HttpOnly\n",
      "\n",
      "request URL:http://teach.cloud.ncnu.edu.tw/qschool\n",
      "reponse URL:https://teach.cloud.ncnu.edu.tw/qschool\n",
      "Set-Cookie:__AntiXsrfToken=576c652b437f4f7b99f07716059ea049; path=/; HttpOnly\n",
      "\n",
      "request URL:http://teach.cloud.ncnu.edu.tw/SignUp\n",
      "reponse URL:https://teach.cloud.ncnu.edu.tw/\n",
      "\n",
      "\n",
      "request URL:http://teach.cloud.ncnu.edu.tw/login.aspx\n",
      "reponse URL:https://teach.cloud.ncnu.edu.tw/login.aspx\n",
      "Set-Cookie:ASP.NET_SessionId=jb0gzvlhk1de4jgf0s5jtqk4; path=/; HttpOnly; SameSite=Lax, __AntiXsrfToken=802a7991e7b64507b5c57ef98c9a6225; path=/; HttpOnly\n",
      "\n"
     ]
    }
   ],
   "source": [
    "import requests\n",
    "from bs4 import BeautifulSoup\n",
    "import prettytable as pt\n",
    "import re\n",
    "import time\n",
    "\n",
    "headers = {\"User-Agent\": \"Mozilla/5.0 (Windows NT 10.0; Win64; x64) AppleWebKit/537.36 (KHTML, like Gecko) Chrome/85.0.4183.83 Safari/537.36\"}\n",
    "\n",
    "FQDN = \"teach.cloud.ncnu.edu.tw\"\n",
    "paths = [\"/\"]\n",
    "i = 0\n",
    "while i < len(paths):\n",
    "    url = \"http://\" + FQDN + (paths[i] if re.search(\"^/\", paths[i]) else \"/\" + paths[i])\n",
    "    response = requests.get(url, headers = headers)\n",
    "    print(\"request URL:\" + url)\n",
    "    print(\"reponse URL:\" + response.url)\n",
    "    if \"Set-Cookie\" in response.headers:\n",
    "        print(\"Set-Cookie:\" + response.headers['Set-Cookie'], end=\"\")\n",
    "    soup = BeautifulSoup(response.text, \"html.parser\")\n",
    "    atags = soup.find_all(\"a\")\n",
    "    for atag in atags:\n",
    "        ahref = atag.get(\"href\")\n",
    "        if ahref not in paths and ahref:\n",
    "            result = re.match(\"([Jj][Aa][Vv][Aa][Ss][Cc][Rr][Ii][Pp][Tt]|[Mm][Aa][Ii][Ll][Tt][Oo]):\", ahref)\n",
    "            if not result:\n",
    "                paths.append(ahref)\n",
    "    i += 1\n",
    "    print(\"\\n\")\n",
    "    time.sleep(0.5)"
   ]
  }
 ],
 "metadata": {
  "kernelspec": {
   "display_name": "Python 3",
   "language": "python",
   "name": "python3"
  },
  "language_info": {
   "codemirror_mode": {
    "name": "ipython",
    "version": 3
   },
   "file_extension": ".py",
   "mimetype": "text/x-python",
   "name": "python",
   "nbconvert_exporter": "python",
   "pygments_lexer": "ipython3",
   "version": "3.8.5"
  }
 },
 "nbformat": 4,
 "nbformat_minor": 4
}
