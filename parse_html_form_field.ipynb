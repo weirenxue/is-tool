{
 "cells": [
  {
   "cell_type": "code",
   "execution_count": 4,
   "metadata": {},
   "outputs": [
    {
     "name": "stdout",
     "output_type": "stream",
     "text": [
      "Form in https://teach.cloud.ncnu.edu.tw/login\n",
      "in form1\n",
      "+----------+-------------------------------------+-----+-----+-----------+-----------+-------------+\n",
      "|   type   |                 name                | max | min | maxlength | minlength | placeholder |\n",
      "+----------+-------------------------------------+-----+-----+-----------+-----------+-------------+\n",
      "|  hidden  |        RadScriptManager1_TSM        |     |     |           |           |             |\n",
      "|  hidden  |             __VIEWSTATE             |     |     |           |           |             |\n",
      "|  hidden  |         __VIEWSTATEGENERATOR        |     |     |           |           |             |\n",
      "|  hidden  |          __EVENTVALIDATION          |     |     |           |           |             |\n",
      "|   text   |                                     |     |     |           |           |             |\n",
      "|  button  |                                     |     |     |           |           |             |\n",
      "|  button  |                                     |     |     |           |           |             |\n",
      "|  button  |                                     |     |     |           |           |             |\n",
      "|  button  |                                     |     |     |           |           |             |\n",
      "|  hidden  | ctl00_RadWindowManager1_ClientState |     |     |           |           |             |\n",
      "|   text   |  ctl00$ContentPlaceHolder1$UserName |     |     |     20    |           |             |\n",
      "| password |  ctl00$ContentPlaceHolder1$Password |     |     |     50    |           |             |\n",
      "|  button  |  ctl00$ContentPlaceHolder1$Button1  |     |     |           |           |             |\n",
      "+----------+-------------------------------------+-----+-----+-----------+-----------+-------------+\n"
     ]
    }
   ],
   "source": [
    "import requests\n",
    "from bs4 import BeautifulSoup\n",
    "import prettytable as pt\n",
    "\n",
    "attrOfInput = [\"type\", \"name\", \"max\", \"min\", \"maxlength\", \"minlength\", \"placeholder\"]#, \"multiple\",  \"pattern\", \"readonly\", \"required\", \"selectionDirection\", \"selectionEnd\", \"selectionStart\", \"size\", \"spellcheck\", \"src\", \"step\", \"tabindex\", \"usemap\", \"value\", \"accept\", \"accesskey\", \"autocomplete\", \"autofocus\", \"capture\", \"checked\", \"disabled\", \"form\", \"formaction\", \"formenctype\", \"formmethod\", \"formnovalidate\", \"formtarget\", \"height\", \"inputmode\", \"list\", \"width\", \"autocapitalize\", \"autocorrect\", \"incremental\", \"mozactionhint\", \"results\", \"webkitdirectory\", \"x-moz-errormessage\"]\n",
    "\n",
    "url = \"https://teach.cloud.ncnu.edu.tw/login\"\n",
    "response = requests.get(url)\n",
    "soup = BeautifulSoup(response.text, \"html.parser\")\n",
    "forms = soup.find_all(\"form\")\n",
    "print(\"Form in\", url)\n",
    "for form in forms:\n",
    "    print(\"in\", form.get(\"id\"))\n",
    "    inputs = form.find_all(\"input\")\n",
    "    input_table = pt.PrettyTable(attrOfInput)\n",
    "    for input_ in inputs:\n",
    "        attrs = []\n",
    "        for attr in attrOfInput:\n",
    "            attr_value = input_.get(attr)\n",
    "            attr_value = (\"ENABLED\" if attr_value == \"\" else attr_value) if attr_value is not None else \"\"\n",
    "            attrs.append(attr_value)\n",
    "        input_table.add_row(attrs)\n",
    "    print(input_table)"
   ]
  }
 ],
 "metadata": {
  "kernelspec": {
   "display_name": "Python 3",
   "language": "python",
   "name": "python3"
  },
  "language_info": {
   "codemirror_mode": {
    "name": "ipython",
    "version": 3
   },
   "file_extension": ".py",
   "mimetype": "text/x-python",
   "name": "python",
   "nbconvert_exporter": "python",
   "pygments_lexer": "ipython3",
   "version": "3.8.5"
  }
 },
 "nbformat": 4,
 "nbformat_minor": 4
}
