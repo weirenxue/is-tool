{
 "cells": [
  {
   "cell_type": "code",
   "execution_count": 142,
   "metadata": {},
   "outputs": [
    {
     "name": "stdout",
     "output_type": "stream",
     "text": [
      "HTML comments in https://teach.cloud.ncnu.edu.tw/\n",
      "<!-- start: Css -->\n",
      "<!-- plugins -->\n",
      "<!-- end: Css -->\n",
      "<!-- 2015.3.1111.45 -->\n",
      "<!-- end: Javascript -->\n",
      "\n",
      "Script comments in https://teach.cloud.ncnu.edu.tw/\n",
      "//<![CDATA[\r\n",
      "//]]>\r\n",
      "//<![CDATA[\r\n",
      "//]]>\r\n",
      "//<![CDATA[\r\n",
      "//]]>\r\n",
      "//<![CDATA[\r\n",
      "//]]>\r\n"
     ]
    }
   ],
   "source": [
    "import requests\n",
    "from bs4 import BeautifulSoup\n",
    "from bs4 import Comment\n",
    "import re\n",
    "\n",
    "headers = {\"User-Agent\": \"Mozilla/5.0 (Windows NT 10.0; Win64; x64) AppleWebKit/537.36 (KHTML, like Gecko) Chrome/85.0.4183.83 Safari/537.36\"}\n",
    "\n",
    "url = \"https://teach.cloud.ncnu.edu.tw/\"\n",
    "response = requests.get(url, headers = headers)\n",
    "soup = BeautifulSoup(response.text, \"html.parser\")\n",
    "HTMLComments = soup.find_all(string=lambda text: isinstance(text, Comment))\n",
    "print(\"HTML comments in\", url)\n",
    "for HTMLComment in HTMLComments:\n",
    "    print(\"<!--{}-->\".format(HTMLComment))\n",
    "    \n",
    "scripts = soup.find_all(\"script\")\n",
    "print(\"\\nScript comments in\", url)\n",
    "for script in scripts:\n",
    "    scriptStr = script.string\n",
    "    if scriptStr:\n",
    "        scriptComments = re.findall(\"((//.*)|(/\\*[\\w\\W]*\\*/))\", scriptStr)\n",
    "        for scriptComment in scriptComments:\n",
    "            print(scriptComment[0])"
   ]
  },
  {
   "cell_type": "code",
   "execution_count": null,
   "metadata": {},
   "outputs": [],
   "source": [
    "url = \"https://teach.cloud.ncnu.edu.tw\"\n",
    "response = requests.get(url)\n",
    "soup = BeautifulSoup(response.text, \"html.parser\")\n",
    "scripts = soup.find_all(\"script\")\n",
    "print(\"HTML comments in\", url)\n",
    "for script in scripts:\n",
    "    scriptComments = script.find_all(string=re.compile(\"//(\\w|\\W)\"))\n",
    "    for scriptComment in scriptComments:\n",
    "        print(\"{}\\n\".format(scriptComment))"
   ]
  },
  {
   "cell_type": "code",
   "execution_count": null,
   "metadata": {},
   "outputs": [],
   "source": []
  }
 ],
 "metadata": {
  "kernelspec": {
   "display_name": "Python 3",
   "language": "python",
   "name": "python3"
  },
  "language_info": {
   "codemirror_mode": {
    "name": "ipython",
    "version": 3
   },
   "file_extension": ".py",
   "mimetype": "text/x-python",
   "name": "python",
   "nbconvert_exporter": "python",
   "pygments_lexer": "ipython3",
   "version": "3.8.5"
  }
 },
 "nbformat": 4,
 "nbformat_minor": 4
}
